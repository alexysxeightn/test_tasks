{
 "cells": [
  {
   "cell_type": "markdown",
   "metadata": {},
   "source": [
    "# Задача"
   ]
  },
  {
   "cell_type": "markdown",
   "metadata": {},
   "source": [
    "Все натуральные числа покрашены в некоторые цвета. Известно, что для любых неотрицательных целых $m,n$ числа вида\n",
    "\n",
    "$$m + n,$$\n",
    "$$m ^ 2 + n^2 + 1$$\n",
    "\n",
    "покрашены в один цвет. Все ли числа покрашены в один цвет?\n",
    "\n",
    "Ваша задача:\n",
    "\n",
    "1. Проверить (на python, см. приложенные файлы), что все числа, не превосходящие наперед заданного $N$ покрашены в один цвет;\n",
    "\n",
    "2. Доказать, что все числа покрашены в один цвет.\n",
    "\n",
    "\n",
    "## Что нужно сделать?\n",
    "\n",
    "1. Реализовать методы класса Checker из numbers_checker.py (в особенности get_path);\n",
    "\n",
    "2. Доказательство затехать."
   ]
  },
  {
   "cell_type": "markdown",
   "metadata": {},
   "source": [
    "# Доказательство"
   ]
  },
  {
   "cell_type": "markdown",
   "metadata": {
    "id": "dQcpzpHA3YFd"
   },
   "source": [
    "Для удобства равенство цвета обозначим как \"$\\simeq$\"\n",
    "\n",
    "Пусть $x = m_1 + n_1$ и $y = m_2 + n_2$\n",
    "\n",
    "$x \\simeq y$, если  $m_1^2 + n_1^2 + 1 = m_2^2 + n_2^2 + 1, \\quad m_1^2 + n_1^2 = m_2^2 + n_2^2$\n",
    "\n",
    "Воспользуемся тождеством: $(ac-bd)^2 + (ad+bc)^2 = (ac+bd)^2 + (ad-bc)^2$, то есть представим числа следующим образом:\n",
    "\n",
    "$m_1 = ac - bd, \\; n_1 = ad+bc, \\; m_2 = ac+bd, \\; n_2 = ad-bc$\n",
    "\n",
    "(т.к. числа должны быть неотрицательные, то $a \\geq bd/c$ и $a \\geq bc/d$)\n",
    "\n",
    "Тогда\n",
    "\n",
    "$x = ac - bd + ad + bc = a(c+d) + b(c-d)$\n",
    "\n",
    "$y = ac + bd + ad - bc = a(c+d) - b(c-d)$\n",
    "\n",
    "<br>\n",
    "\n",
    "Пусть $c = 2, \\; d = 1$. Тогда числа $3a+b \\simeq 3a-b$ для $a \\geq 2b$\n",
    "\n",
    "$3a-1 \\simeq 3a + 1$ для $a \\geq 2, \\quad (5 \\simeq 7, \\; 8 \\simeq 10, \\; 11 \\simeq 13, \\; 14 \\simeq 16, \\; 17 \\simeq 19, \\; 20 \\simeq 22, \\; \\dots)$\n",
    "\n",
    "$3a-2 \\simeq 3a + 2$ для $a \\geq 4, \\quad (10 \\simeq 14, \\; 13 \\simeq 17, \\; 16 \\simeq 20, \\; 19 \\simeq 23, \\; 22 \\simeq 26, \\; 25 \\simeq 29, \\dots)$\n",
    "\n",
    "Т.к. $3a + 1 = 3(a+1) - 2$ и $3a - 1 = 3(a-1) + 2$, то $3a+2 \\simeq 3a+4 \\simeq 3a+8 \\simeq 3a + 10 \\simeq ... \\;$ для $a \\geq 4$\n",
    "\n",
    "$(14 \\simeq 16 \\simeq 20 \\simeq 22 \\simeq ..., \\; 17 \\simeq 19 \\simeq 23 \\simeq 25 \\simeq ...)$\n",
    "\n",
    "<br>\n",
    "\n",
    "$3a-3 \\simeq 3a + 3$ для $a \\geq 6, \\quad (15 \\simeq 21, \\; 18 \\simeq 24, \\; 21 \\simeq 27, \\; 24 \\simeq 30, \\; 27 \\simeq 33, \\; 30 \\simeq 36, \\; \\dots)$\n",
    "\n",
    "Т.к. $3(a - 1) + 3 = 3(a+1) - 3$, то $3a - 3 \\simeq 3a + 3 \\simeq 3a+9 \\simeq 3a + 15 \\simeq \\dots \\;$ для $a \\geq 6$\n",
    "\n",
    "Для удобства перепишем последнее как $3a \\simeq 3a + 6 \\simeq 3a + 12 \\simeq \\dots \\;$ для $a \\geq 5$\n",
    "\n",
    "<br>\n",
    "\n",
    "Пусть $b = 1, \\; c = 3, \\; d = 1$. Тогда $4a+2 \\simeq 4a-2$ для $a \\geq 3$\n",
    "\n",
    "Возьмем $a = 3k + 1$ для $k \\geq 0$. Тогда $12k + 6 \\simeq 12k + 2$\n",
    "\n",
    "<br>\n",
    "\n",
    "Из того, что:\n",
    "\n",
    "$3a+2 \\simeq 3a+4 \\simeq 3a+8 \\simeq 3a + 10 \\simeq ...,$\n",
    "\n",
    "$3a \\simeq 3a + 6 \\simeq 3a+12 \\simeq \\dots \\;$\n",
    "\n",
    "$12k + 6 \\simeq 12k + 2$\n",
    "\n",
    "Следует, что $3a \\simeq 3a + 2 \\simeq 3a + 4 \\simeq 3a + 6 \\simeq \\dots \\simeq 3a + 2l \\simeq \\dots$ для $a \\geq 5$\n",
    "\n",
    "При $a = 5$ получим, что все числа вида $15 + 2l$ покрашены в один цвет (все нечетные числа $\\geq 15$)\n",
    "\n",
    "Возьмем любое четное число $z > 15$. Тогда его можно представить как $(z - 1) + 1$ и оно будет иметь тот же цвет, что и $(z-1)^2 + 1^1 + 1 = (z-1)^2 + 2$ - что является нечетным числом $\\geq 15$. Отсюда следует, что все числа $\\geq 15$ имеют один и тот же цвет\n",
    "\n",
    "<br>\n",
    "\n",
    "Для чисел меньше 15 легко найти цепочку, которая приведет их к числам $\\geq 15$, поэтому все числа покрашены в один цвет"
   ]
  },
  {
   "cell_type": "markdown",
   "metadata": {},
   "source": [
    "# Решение на Python"
   ]
  },
  {
   "cell_type": "code",
   "execution_count": 4,
   "metadata": {
    "id": "4i_zam1BBCEI"
   },
   "outputs": [],
   "source": [
    "import typing as tp\n",
    "from collections import deque\n",
    "from dataclasses import dataclass\n",
    "\n",
    "\n",
    "@dataclass\n",
    "class NumbersStep:\n",
    "    m: int\n",
    "    n: int\n",
    "\n",
    "    def next(self) -> int:\n",
    "        return self.m**2 + self.n**2 + 1\n",
    "\n",
    "\n",
    "@dataclass\n",
    "class NumbersPath:\n",
    "    a: int\n",
    "    b: int\n",
    "    steps: tp.Tuple[\n",
    "        tp.List[NumbersStep], tp.List[NumbersStep]  # steps for a  # steps for b\n",
    "    ]\n",
    "\n",
    "    @staticmethod\n",
    "    def sum(m: int, n: int) -> int:\n",
    "        return m + n\n",
    "\n",
    "    @staticmethod\n",
    "    def sq_sum1(m: int, n: int) -> int:\n",
    "        return m**2 + n**2 + 1\n",
    "\n",
    "\n",
    "class Checker:\n",
    "    def __init__(self, max_n: int) -> None:\n",
    "        \"\"\"\n",
    "        Class to check hypothesis\n",
    "        Args:\n",
    "            max_n (int): N from the task description\n",
    "        \"\"\"\n",
    "        self.N = max_n\n",
    "        self.cache = dict()\n",
    "\n",
    "    def get_next_values(self, x: int) -> tp.List[NumbersStep]:\n",
    "        if x not in self.cache:\n",
    "            self.cache[x] = [NumbersStep(x - n, n) for n in range(x // 2 + 1)]\n",
    "        return self.cache[x]\n",
    "    \n",
    "    #def get_candidates(self, k: int) -> tp.List[int]:\n",
    "    #    return [(k - x) ** 2 + x**2 + 1 for x in range(k // 2 + 1)]\n",
    "\n",
    "    def run_check(self) -> None:\n",
    "        for a in range(1, self.N + 1):\n",
    "            if not self.get_path(a, 1):\n",
    "                raise Exception\n",
    "        return True\n",
    "\n",
    "    def get_path(self, a: int, b: int) -> NumbersPath:\n",
    "\n",
    "        queue_a, queue_b = deque([(a, [])]), deque([(b, [])])\n",
    "        visited_a, visited_b = {a: []}, {b: []}\n",
    "\n",
    "        while True:\n",
    "\n",
    "            if queue_a:\n",
    "                current_a, path_a = queue_a.popleft()\n",
    "                for step in self.get_next_values(current_a):\n",
    "                    next_a = step.next()\n",
    "                    if next_a in visited_b:\n",
    "                        return NumbersPath(a, b, (path_a + [step], visited_b[next_a]))\n",
    "                    visited_a[next_a] = path_a + [step]\n",
    "                    queue_a.append((next_a, visited_a[next_a]))\n",
    "\n",
    "            if queue_b:\n",
    "                current_b, path_b = queue_b.popleft()\n",
    "                for step in self.get_next_values(current_b):\n",
    "                    next_b = step.next()\n",
    "                    if next_b in visited_a:\n",
    "                        return NumbersPath(a, b, (visited_a[next_b], path_b + [step]))\n",
    "                    visited_b[next_b] = path_b + [step]\n",
    "                    queue_b.append((next_b, visited_b[next_b]))\n"
   ]
  },
  {
   "cell_type": "markdown",
   "metadata": {},
   "source": [
    "# Тесты"
   ]
  },
  {
   "cell_type": "code",
   "execution_count": 5,
   "metadata": {
    "colab": {
     "base_uri": "https://localhost:8080/"
    },
    "id": "_H6ek6IBZUKw",
    "outputId": "b04b24b5-eccc-4f79-fcbb-724c9f98a0ff"
   },
   "outputs": [
    {
     "name": "stdout",
     "output_type": "stream",
     "text": [
      "NumbersPath(a=1, b=2, steps=([NumbersStep(m=1, n=0)], []))\n",
      "NumbersPath(a=1, b=3, steps=([NumbersStep(m=1, n=0), NumbersStep(m=1, n=1)], []))\n",
      "NumbersPath(a=1, b=4, steps=([NumbersStep(m=1, n=0), NumbersStep(m=1, n=1), NumbersStep(m=2, n=1), NumbersStep(m=3, n=3), NumbersStep(m=13, n=6)], [NumbersStep(m=4, n=0), NumbersStep(m=14, n=3)]))\n",
      "NumbersPath(a=1, b=5, steps=([NumbersStep(m=1, n=0), NumbersStep(m=2, n=0)], []))\n",
      "NumbersPath(a=1, b=6, steps=([NumbersStep(m=1, n=0), NumbersStep(m=1, n=1), NumbersStep(m=2, n=1)], []))\n",
      "NumbersPath(a=1, b=7, steps=([NumbersStep(m=1, n=0), NumbersStep(m=2, n=0), NumbersStep(m=5, n=0)], [NumbersStep(m=4, n=3)]))\n",
      "NumbersPath(a=1, b=8, steps=([NumbersStep(m=1, n=0), NumbersStep(m=1, n=1), NumbersStep(m=3, n=0), NumbersStep(m=5, n=5)], [NumbersStep(m=7, n=1)]))\n",
      "NumbersPath(a=1, b=9, steps=([NumbersStep(m=1, n=0), NumbersStep(m=2, n=0), NumbersStep(m=5, n=0), NumbersStep(m=26, n=0), NumbersStep(m=676, n=1)], [NumbersStep(m=5, n=4), NumbersStep(m=25, n=17), NumbersStep(m=596, n=319)]))\n",
      "NumbersPath(a=1, b=10, steps=([NumbersStep(m=1, n=0), NumbersStep(m=1, n=1), NumbersStep(m=3, n=0)], []))\n",
      "NumbersPath(a=2, b=3, steps=([NumbersStep(m=1, n=1)], []))\n",
      "NumbersPath(a=2, b=4, steps=([NumbersStep(m=1, n=1), NumbersStep(m=2, n=1), NumbersStep(m=3, n=3), NumbersStep(m=13, n=6)], [NumbersStep(m=4, n=0), NumbersStep(m=14, n=3)]))\n",
      "NumbersPath(a=2, b=5, steps=([NumbersStep(m=2, n=0)], []))\n",
      "NumbersPath(a=2, b=6, steps=([NumbersStep(m=1, n=1), NumbersStep(m=2, n=1)], []))\n",
      "NumbersPath(a=2, b=7, steps=([NumbersStep(m=2, n=0), NumbersStep(m=5, n=0)], [NumbersStep(m=4, n=3)]))\n",
      "NumbersPath(a=2, b=8, steps=([NumbersStep(m=1, n=1), NumbersStep(m=3, n=0), NumbersStep(m=5, n=5)], [NumbersStep(m=7, n=1)]))\n",
      "NumbersPath(a=2, b=9, steps=([NumbersStep(m=2, n=0), NumbersStep(m=5, n=0), NumbersStep(m=26, n=0), NumbersStep(m=676, n=1)], [NumbersStep(m=5, n=4), NumbersStep(m=25, n=17), NumbersStep(m=596, n=319)]))\n",
      "NumbersPath(a=2, b=10, steps=([NumbersStep(m=1, n=1), NumbersStep(m=3, n=0)], []))\n",
      "NumbersPath(a=3, b=4, steps=([NumbersStep(m=2, n=1), NumbersStep(m=3, n=3), NumbersStep(m=13, n=6)], [NumbersStep(m=4, n=0), NumbersStep(m=14, n=3)]))\n",
      "NumbersPath(a=3, b=5, steps=([NumbersStep(m=3, n=0), NumbersStep(m=10, n=0)], [NumbersStep(m=3, n=2), NumbersStep(m=8, n=6)]))\n",
      "NumbersPath(a=3, b=6, steps=([NumbersStep(m=2, n=1)], []))\n"
     ]
    },
    {
     "ename": "",
     "evalue": "",
     "output_type": "error",
     "traceback": [
      "\u001b[1;31mThe Kernel crashed while executing code in the current cell or a previous cell. \n",
      "\u001b[1;31mPlease review the code in the cell(s) to identify a possible cause of the failure. \n",
      "\u001b[1;31mClick <a href='https://aka.ms/vscodeJupyterKernelCrash'>here</a> for more info. \n",
      "\u001b[1;31mView Jupyter <a href='command:jupyter.viewOutput'>log</a> for further details."
     ]
    }
   ],
   "source": [
    "def test_23():\n",
    "    a = 2\n",
    "    b = 3\n",
    "    checker = Checker(3)\n",
    "    checker.run_check()\n",
    "\n",
    "    correct_path = NumbersPath(a, b, ([NumbersStep(1, 1)], []))\n",
    "\n",
    "    path = checker.get_path(a, b)\n",
    "    assert path == correct_path\n",
    "\n",
    "\n",
    "def test_correct_path():\n",
    "    N = 10\n",
    "    checker = Checker(N)\n",
    "    checker.run_check()\n",
    "\n",
    "    for a in range(1, N + 1):\n",
    "        for b in range(a + 1, N + 1):\n",
    "            path = checker.get_path(a, b)\n",
    "            print(path)\n",
    "            assert path.a == a\n",
    "            assert path.b == b\n",
    "\n",
    "            cur_a, cur_b = a, b\n",
    "            for numbers_step in path.steps[0]:  # check a\n",
    "                assert numbers_step.m + numbers_step.n == cur_a\n",
    "                cur_a = numbers_step.next()\n",
    "\n",
    "            for numbers_step in path.steps[1]:  # check b\n",
    "                assert numbers_step.m + numbers_step.n == cur_b\n",
    "                cur_b = numbers_step.next()\n",
    "\n",
    "            assert cur_a == cur_b\n",
    "\n",
    "\n",
    "test_correct_path()"
   ]
  },
  {
   "cell_type": "markdown",
   "metadata": {},
   "source": [
    "Решение работает путем полного перебора, из-за чего может потребоваться очень много времени и памяти для получения ответа. С другой стороны, раз 1 имеет тот же самый цвет, что и числа от 2 до 10, то все числа от 1 до 10 будут иметь один и тот же цвет. "
   ]
  }
 ],
 "metadata": {
  "colab": {
   "provenance": []
  },
  "kernelspec": {
   "display_name": "Python 3",
   "name": "python3"
  },
  "language_info": {
   "codemirror_mode": {
    "name": "ipython",
    "version": 3
   },
   "file_extension": ".py",
   "mimetype": "text/x-python",
   "name": "python",
   "nbconvert_exporter": "python",
   "pygments_lexer": "ipython3",
   "version": "3.13.0"
  }
 },
 "nbformat": 4,
 "nbformat_minor": 0
}
