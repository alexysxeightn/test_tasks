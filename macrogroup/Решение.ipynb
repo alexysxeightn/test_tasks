{
  "cells": [
    {
      "cell_type": "code",
      "execution_count": null,
      "metadata": {},
      "outputs": [
        {
          "name": "stderr",
          "output_type": "stream",
          "text": [
            "c:\\Users\\alexysxeightn\\AppData\\Local\\Programs\\Python\\Python313\\Lib\\site-packages\\tqdm\\auto.py:21: TqdmWarning: IProgress not found. Please update jupyter and ipywidgets. See https://ipywidgets.readthedocs.io/en/stable/user_install.html\n",
            "  from .autonotebook import tqdm as notebook_tqdm\n"
          ]
        }
      ],
      "source": [
        "import base64\n",
        "from docx2pdf import convert\n",
        "from mistralai import Mistral\n",
        "import os\n",
        "import pandas as pd\n",
        "import pickle\n",
        "from PyPDF2 import PdfReader\n",
        "from sentence_transformers import SentenceTransformer\n",
        "from sklearn.model_selection import train_test_split\n",
        "from sklearn.metrics import accuracy_score, f1_score\n",
        "from sklearn.preprocessing import LabelEncoder\n",
        "from xgboost import XGBClassifier\n",
        "\n",
        "os.environ[\"MISTRAL_API_KEY\"] = ''\n",
        "RANDOM_STATE = 42"
      ]
    },
    {
      "cell_type": "code",
      "execution_count": 2,
      "metadata": {
        "colab": {
          "base_uri": "https://localhost:8080/",
          "height": 597
        },
        "id": "uYxu4gM2Tpud",
        "outputId": "f1c5454b-1e9b-4f2b-879a-98b9ef5d0695"
      },
      "outputs": [
        {
          "data": {
            "text/html": [
              "<div>\n",
              "<style scoped>\n",
              "    .dataframe tbody tr th:only-of-type {\n",
              "        vertical-align: middle;\n",
              "    }\n",
              "\n",
              "    .dataframe tbody tr th {\n",
              "        vertical-align: top;\n",
              "    }\n",
              "\n",
              "    .dataframe thead th {\n",
              "        text-align: right;\n",
              "    }\n",
              "</style>\n",
              "<table border=\"1\" class=\"dataframe\">\n",
              "  <thead>\n",
              "    <tr style=\"text-align: right;\">\n",
              "      <th></th>\n",
              "      <th>part_num</th>\n",
              "      <th>manufacturer</th>\n",
              "      <th>TNVED</th>\n",
              "      <th>concat_str</th>\n",
              "      <th>path_ds</th>\n",
              "      <th>id_path</th>\n",
              "    </tr>\n",
              "  </thead>\n",
              "  <tbody>\n",
              "    <tr>\n",
              "      <th>0</th>\n",
              "      <td>XC7K410T-2FFG900I</td>\n",
              "      <td>XILINX</td>\n",
              "      <td>8542399010</td>\n",
              "      <td>XC7K410T-2FFG900I XILINX</td>\n",
              "      <td>M:\\DataSheet\\d76e3861-23b6-11ed-96e5-f8bc12505...</td>\n",
              "      <td>d76e3861-23b6-11ed-96e5-f8bc12505841</td>\n",
              "    </tr>\n",
              "    <tr>\n",
              "      <th>1</th>\n",
              "      <td>NC7WZ04P6X</td>\n",
              "      <td>ON SEMICONDUCTOR</td>\n",
              "      <td>8542399010</td>\n",
              "      <td>NC7WZ04P6X ON SEMICONDUCTOR</td>\n",
              "      <td>M:\\DataSheet\\b09bd526-4a32-11ed-96e6-f8bc12505...</td>\n",
              "      <td>b09bd526-4a32-11ed-96e6-f8bc12505841</td>\n",
              "    </tr>\n",
              "    <tr>\n",
              "      <th>2</th>\n",
              "      <td>ADUM1401ARWZ</td>\n",
              "      <td>ANALOG DEVICES</td>\n",
              "      <td>8542399010</td>\n",
              "      <td>ADUM1401ARWZ ANALOG DEVICES</td>\n",
              "      <td>M:\\DataSheet\\2ff0bfb5-6804-11ee-96f4-f8bc12505...</td>\n",
              "      <td>2ff0bfb5-6804-11ee-96f4-f8bc12505841</td>\n",
              "    </tr>\n",
              "    <tr>\n",
              "      <th>3</th>\n",
              "      <td>GCM155R71C104KA55D</td>\n",
              "      <td>MURATA ELECTRONICS</td>\n",
              "      <td>8532240000</td>\n",
              "      <td>GCM155R71C104KA55D MURATA ELECTRONICS</td>\n",
              "      <td>M:\\DataSheet\\8436bcbb-4a18-11ed-96e6-f8bc12505...</td>\n",
              "      <td>8436bcbb-4a18-11ed-96e6-f8bc12505841</td>\n",
              "    </tr>\n",
              "    <tr>\n",
              "      <th>4</th>\n",
              "      <td>ADA4898-1YRDZ</td>\n",
              "      <td>ANALOG DEVICES</td>\n",
              "      <td>8542339000</td>\n",
              "      <td>ADA4898-1YRDZ ANALOG DEVICES</td>\n",
              "      <td>M:\\DataSheet\\cb8a2892-ddc2-11ed-96f0-f8bc12505...</td>\n",
              "      <td>cb8a2892-ddc2-11ed-96f0-f8bc12505841</td>\n",
              "    </tr>\n",
              "    <tr>\n",
              "      <th>...</th>\n",
              "      <td>...</td>\n",
              "      <td>...</td>\n",
              "      <td>...</td>\n",
              "      <td>...</td>\n",
              "      <td>...</td>\n",
              "      <td>...</td>\n",
              "    </tr>\n",
              "    <tr>\n",
              "      <th>12341</th>\n",
              "      <td>VT3-801FL</td>\n",
              "      <td>QUARTZCOM AG</td>\n",
              "      <td>8542393000</td>\n",
              "      <td>VT3-801FL QUARTZCOM AG</td>\n",
              "      <td>M:\\DataSheet\\c005ef03-1ecc-11ed-96e5-f8bc12505...</td>\n",
              "      <td>c005ef03-1ecc-11ed-96e5-f8bc12505841</td>\n",
              "    </tr>\n",
              "    <tr>\n",
              "      <th>12342</th>\n",
              "      <td>FD129225UB-Q-EAG(2FE)-RUM</td>\n",
              "      <td>YEN SUN TECHNOLOGY CORP.</td>\n",
              "      <td>8414592000</td>\n",
              "      <td>FD129225UB-Q-EAG(2FE)-RUM YEN SUN TECHNOLOGY C...</td>\n",
              "      <td>M:\\DataSheet\\971e123f-c542-11ec-96e1-f8bc12505...</td>\n",
              "      <td>971e123f-c542-11ec-96e1-f8bc12505841</td>\n",
              "    </tr>\n",
              "    <tr>\n",
              "      <th>12343</th>\n",
              "      <td>BC817-16</td>\n",
              "      <td>YANGZHOU YANGJIE ELECTRONIC</td>\n",
              "      <td>8541210000</td>\n",
              "      <td>BC817-16 YANGZHOU YANGJIE ELECTRONIC</td>\n",
              "      <td>M:\\DataSheet\\a5bde0c0-c8af-11ed-96ee-f8bc12505...</td>\n",
              "      <td>a5bde0c0-c8af-11ed-96ee-f8bc12505841</td>\n",
              "    </tr>\n",
              "    <tr>\n",
              "      <th>12344</th>\n",
              "      <td>2J2004B-B05H-500RG58-C91NST_MARU</td>\n",
              "      <td>2J</td>\n",
              "      <td>8517711900</td>\n",
              "      <td>2J2004B-B05H-500RG58-C91NST_MARU 2J</td>\n",
              "      <td>M:\\DataSheet\\eceb9dfd-e6fb-11ec-96e1-f8bc12505...</td>\n",
              "      <td>eceb9dfd-e6fb-11ec-96e1-f8bc12505841</td>\n",
              "    </tr>\n",
              "    <tr>\n",
              "      <th>12345</th>\n",
              "      <td>MFMVC100FC2R-1M3</td>\n",
              "      <td>FAITHFUL LINK INDUSTRIAL</td>\n",
              "      <td>8533100000</td>\n",
              "      <td>MFMVC100FC2R-1M3 FAITHFUL LINK INDUSTRIAL</td>\n",
              "      <td>M:\\DataSheet\\bb07e456-d1cd-11ec-96e1-f8bc12505...</td>\n",
              "      <td>bb07e456-d1cd-11ec-96e1-f8bc12505841</td>\n",
              "    </tr>\n",
              "  </tbody>\n",
              "</table>\n",
              "<p>12346 rows × 6 columns</p>\n",
              "</div>"
            ],
            "text/plain": [
              "                               part_num                 manufacturer  \\\n",
              "0                     XC7K410T-2FFG900I                       XILINX   \n",
              "1                            NC7WZ04P6X             ON SEMICONDUCTOR   \n",
              "2                          ADUM1401ARWZ               ANALOG DEVICES   \n",
              "3                    GCM155R71C104KA55D           MURATA ELECTRONICS   \n",
              "4                         ADA4898-1YRDZ               ANALOG DEVICES   \n",
              "...                                 ...                          ...   \n",
              "12341                         VT3-801FL                 QUARTZCOM AG   \n",
              "12342         FD129225UB-Q-EAG(2FE)-RUM     YEN SUN TECHNOLOGY CORP.   \n",
              "12343                          BC817-16  YANGZHOU YANGJIE ELECTRONIC   \n",
              "12344  2J2004B-B05H-500RG58-C91NST_MARU                           2J   \n",
              "12345                  MFMVC100FC2R-1M3     FAITHFUL LINK INDUSTRIAL   \n",
              "\n",
              "            TNVED                                         concat_str  \\\n",
              "0      8542399010                           XC7K410T-2FFG900I XILINX   \n",
              "1      8542399010                        NC7WZ04P6X ON SEMICONDUCTOR   \n",
              "2      8542399010                        ADUM1401ARWZ ANALOG DEVICES   \n",
              "3      8532240000              GCM155R71C104KA55D MURATA ELECTRONICS   \n",
              "4      8542339000                       ADA4898-1YRDZ ANALOG DEVICES   \n",
              "...           ...                                                ...   \n",
              "12341  8542393000                             VT3-801FL QUARTZCOM AG   \n",
              "12342  8414592000  FD129225UB-Q-EAG(2FE)-RUM YEN SUN TECHNOLOGY C...   \n",
              "12343  8541210000               BC817-16 YANGZHOU YANGJIE ELECTRONIC   \n",
              "12344  8517711900                2J2004B-B05H-500RG58-C91NST_MARU 2J   \n",
              "12345  8533100000          MFMVC100FC2R-1M3 FAITHFUL LINK INDUSTRIAL   \n",
              "\n",
              "                                                 path_ds  \\\n",
              "0      M:\\DataSheet\\d76e3861-23b6-11ed-96e5-f8bc12505...   \n",
              "1      M:\\DataSheet\\b09bd526-4a32-11ed-96e6-f8bc12505...   \n",
              "2      M:\\DataSheet\\2ff0bfb5-6804-11ee-96f4-f8bc12505...   \n",
              "3      M:\\DataSheet\\8436bcbb-4a18-11ed-96e6-f8bc12505...   \n",
              "4      M:\\DataSheet\\cb8a2892-ddc2-11ed-96f0-f8bc12505...   \n",
              "...                                                  ...   \n",
              "12341  M:\\DataSheet\\c005ef03-1ecc-11ed-96e5-f8bc12505...   \n",
              "12342  M:\\DataSheet\\971e123f-c542-11ec-96e1-f8bc12505...   \n",
              "12343  M:\\DataSheet\\a5bde0c0-c8af-11ed-96ee-f8bc12505...   \n",
              "12344  M:\\DataSheet\\eceb9dfd-e6fb-11ec-96e1-f8bc12505...   \n",
              "12345  M:\\DataSheet\\bb07e456-d1cd-11ec-96e1-f8bc12505...   \n",
              "\n",
              "                                    id_path  \n",
              "0      d76e3861-23b6-11ed-96e5-f8bc12505841  \n",
              "1      b09bd526-4a32-11ed-96e6-f8bc12505841  \n",
              "2      2ff0bfb5-6804-11ee-96f4-f8bc12505841  \n",
              "3      8436bcbb-4a18-11ed-96e6-f8bc12505841  \n",
              "4      cb8a2892-ddc2-11ed-96f0-f8bc12505841  \n",
              "...                                     ...  \n",
              "12341  c005ef03-1ecc-11ed-96e5-f8bc12505841  \n",
              "12342  971e123f-c542-11ec-96e1-f8bc12505841  \n",
              "12343  a5bde0c0-c8af-11ed-96ee-f8bc12505841  \n",
              "12344  eceb9dfd-e6fb-11ec-96e1-f8bc12505841  \n",
              "12345  bb07e456-d1cd-11ec-96e1-f8bc12505841  \n",
              "\n",
              "[12346 rows x 6 columns]"
            ]
          },
          "execution_count": 2,
          "metadata": {},
          "output_type": "execute_result"
        }
      ],
      "source": [
        "df = pd.read_csv('df_clear_uniq_3.csv')\n",
        "df"
      ]
    },
    {
      "cell_type": "code",
      "execution_count": 2,
      "metadata": {
        "colab": {
          "base_uri": "https://localhost:8080/"
        },
        "id": "WP2zecg5T7hf",
        "outputId": "5bdc0428-552a-457e-a5e0-96a70c78313e"
      },
      "outputs": [
        {
          "data": {
            "text/plain": [
              "(12346, 87)"
            ]
          },
          "execution_count": 2,
          "metadata": {},
          "output_type": "execute_result"
        }
      ],
      "source": [
        "len(df['TNVED']), len(set(df['TNVED']))"
      ]
    },
    {
      "cell_type": "markdown",
      "metadata": {
        "id": "qi_CXcgtUAM1"
      },
      "source": [
        "Т.к. у нас по факту у нас всего 87 уникальных кодов, то можно решить задачу как задачу классификации"
      ]
    },
    {
      "cell_type": "code",
      "execution_count": 5,
      "metadata": {
        "colab": {
          "base_uri": "https://localhost:8080/",
          "height": 449
        },
        "id": "G7QegozTUJoo",
        "outputId": "306ef360-a828-4372-af4c-b0e4d0259cec"
      },
      "outputs": [
        {
          "data": {
            "text/plain": [
              "<Axes: >"
            ]
          },
          "execution_count": 5,
          "metadata": {},
          "output_type": "execute_result"
        },
        {
          "data": {
            "image/png": "[encoded data removed]",
            "text/plain": [
              "<Figure size 640x480 with 1 Axes>"
            ]
          },
          "metadata": {},
          "output_type": "display_data"
        }
      ],
      "source": [
        "df.groupby('TNVED')['part_num'].count().hist()"
      ]
    },
    {
      "cell_type": "markdown",
      "metadata": {
        "id": "italXzwRUvlt"
      },
      "source": [
        "Виден четкий дисбаланс классов"
      ]
    },
    {
      "cell_type": "code",
      "execution_count": 6,
      "metadata": {
        "colab": {
          "base_uri": "https://localhost:8080/",
          "height": 489
        },
        "id": "ca_vneetU0Rl",
        "outputId": "ab982166-9d3f-4e04-8de2-7df67e75617b"
      },
      "outputs": [
        {
          "data": {
            "text/plain": [
              "TNVED\n",
              "8486400009       2\n",
              "7318155900       7\n",
              "7326909807       7\n",
              "8525891900       8\n",
              "8544429009       9\n",
              "              ... \n",
              "8541100009     662\n",
              "8532240000     742\n",
              "8533100000     926\n",
              "8536693000    1107\n",
              "8542399010    2676\n",
              "Name: part_num, Length: 87, dtype: int64"
            ]
          },
          "execution_count": 6,
          "metadata": {},
          "output_type": "execute_result"
        }
      ],
      "source": [
        "df.groupby('TNVED')['part_num'].count().sort_values()"
      ]
    },
    {
      "cell_type": "markdown",
      "metadata": {
        "id": "VbGwVoyCVTjS"
      },
      "source": [
        "Разделим выборку на тестовую и обучающую, стратифицирую по коду TNVED (чтобы распределения в обучении и тесте были похожи на рельное распределение кодов)"
      ]
    },
    {
      "cell_type": "code",
      "execution_count": null,
      "metadata": {
        "id": "w91qdzzDVS_q"
      },
      "outputs": [],
      "source": [
        "X = df.drop(['TNVED'], axis=1)\n",
        "y = df['TNVED']\n",
        "\n",
        "X_train, X_test, y_train, y_test = train_test_split(\n",
        "    X, y, test_size=0.2, random_state=RANDOM_STATE, stratify=y\n",
        ")"
      ]
    },
    {
      "cell_type": "markdown",
      "metadata": {
        "id": "3am9iClyV-w0"
      },
      "source": [
        "## Бейзлайн: предсказываем всем самый популярный код"
      ]
    },
    {
      "cell_type": "code",
      "execution_count": 14,
      "metadata": {
        "id": "fDPhKL19WD0R"
      },
      "outputs": [],
      "source": [
        "y_pred = pd.Series([y_train.mode().iloc[0]] * len(X_test))"
      ]
    },
    {
      "cell_type": "code",
      "execution_count": 15,
      "metadata": {
        "colab": {
          "base_uri": "https://localhost:8080/"
        },
        "id": "aeLK9SJpWq7S",
        "outputId": "d9cc7eab-8342-41ff-cb00-3fb9935f1c04"
      },
      "outputs": [
        {
          "name": "stdout",
          "output_type": "stream",
          "text": [
            "accuracy 0.2165991902834008\n",
            "f1-macro 0.004140386178075301\n",
            "f1-micro 0.2165991902834008\n",
            "f1-weighted 0.07712516925232575\n"
          ]
        }
      ],
      "source": [
        "print('accuracy', accuracy_score(y_test, y_pred))\n",
        "print('f1-macro', f1_score(y_test, y_pred, average='macro'))\n",
        "print('f1-micro', f1_score(y_test, y_pred, average='micro'))\n",
        "print('f1-weighted', f1_score(y_test, y_pred, average='weighted'))"
      ]
    },
    {
      "cell_type": "markdown",
      "metadata": {},
      "source": [
        "Кажется, что самая валидная метрика для данной задачи это `f1-weighted`, т.к. у нас много классов и они имеют разный размер. Данная метрика позволит каждому классу внести равный вклад в метрику. Для бейзлайна она равна 8%"
      ]
    },
    {
      "cell_type": "markdown",
      "metadata": {},
      "source": [
        "## Используем файлы"
      ]
    },
    {
      "cell_type": "markdown",
      "metadata": {},
      "source": [
        "В `datasheets_miro` часть pdf-файлов бита (0 Кб) и часть файлов закрыты паролем. Их невозможно использовать для обучения и тестирования, поэтому лучше их убрать из анализа\n",
        "\n",
        "Также есть часть docx-файлов, png-файлов и jpg-файлов.\n",
        "\n",
        "К тому же иногда в файле нет валидной информации про необходимый элемент (однако LLM иногда сама знает характеристики этого элемента)\n",
        "\n",
        "Можно поступить следующим образом:\n",
        "- переконвертировать docx-файлы в pdf\n",
        "- вытащить информацию из pdf-файлов и изображений с помощью mistral ocr\n",
        "- сделать summary с помощью mistral llm\n",
        "\n",
        "Для сокращения вычислений не будем проводить процедуру для документов, которые уже есть в `datasheets_miro_gpt4o_mini`\n",
        "\n",
        "После получения всех summary можно получить эмбеддинги для них (с помощью любой предобученной модели) и обучить на нем классификатор (например, xgboost)"
      ]
    },
    {
      "cell_type": "code",
      "execution_count": 23,
      "metadata": {},
      "outputs": [
        {
          "ename": "SDKError",
          "evalue": "API error occurred: Status 500\n{\"object\":\"error\",\"message\":\"Service unavailable.\",\"type\":\"internal_server_error\",\"param\":null,\"code\":\"1000\"}",
          "output_type": "error",
          "traceback": [
            "\u001b[31m---------------------------------------------------------------------------\u001b[39m",
            "\u001b[31mSDKError\u001b[39m                                  Traceback (most recent call last)",
            "\u001b[36mCell\u001b[39m\u001b[36m \u001b[39m\u001b[32mIn[23]\u001b[39m\u001b[32m, line 61\u001b[39m\n\u001b[32m     53\u001b[39m \u001b[38;5;28;01mwith\u001b[39;00m \u001b[38;5;28mopen\u001b[39m(os.path.join(pdfs_path, \u001b[33mf\u001b[39m\u001b[33m\"\u001b[39m\u001b[38;5;132;01m{\u001b[39;00mfilename\u001b[38;5;132;01m}\u001b[39;00m\u001b[33m.pdf\u001b[39m\u001b[33m\"\u001b[39m), \u001b[33m\"\u001b[39m\u001b[33mrb\u001b[39m\u001b[33m\"\u001b[39m) \u001b[38;5;28;01mas\u001b[39;00m f:\n\u001b[32m     54\u001b[39m     uploaded_pdf = client.files.upload(\n\u001b[32m     55\u001b[39m         file={\n\u001b[32m     56\u001b[39m             \u001b[33m\"\u001b[39m\u001b[33mfile_name\u001b[39m\u001b[33m\"\u001b[39m: os.path.join(pdfs_path, \u001b[33mf\u001b[39m\u001b[33m\"\u001b[39m\u001b[38;5;132;01m{\u001b[39;00mfilename\u001b[38;5;132;01m}\u001b[39;00m\u001b[33m.pdf\u001b[39m\u001b[33m\"\u001b[39m),\n\u001b[32m   (...)\u001b[39m\u001b[32m     59\u001b[39m         purpose=\u001b[33m\"\u001b[39m\u001b[33mocr\u001b[39m\u001b[33m\"\u001b[39m,\n\u001b[32m     60\u001b[39m     )\n\u001b[32m---> \u001b[39m\u001b[32m61\u001b[39m chat_response = \u001b[43mclient\u001b[49m\u001b[43m.\u001b[49m\u001b[43mchat\u001b[49m\u001b[43m.\u001b[49m\u001b[43mcomplete\u001b[49m\u001b[43m(\u001b[49m\n\u001b[32m     62\u001b[39m \u001b[43m    \u001b[49m\u001b[43mmodel\u001b[49m\u001b[43m=\u001b[49m\u001b[33;43m\"\u001b[39;49m\u001b[33;43mmistral-large-latest\u001b[39;49m\u001b[33;43m\"\u001b[39;49m\u001b[43m,\u001b[49m\n\u001b[32m     63\u001b[39m \u001b[43m    \u001b[49m\u001b[43mmessages\u001b[49m\u001b[43m=\u001b[49m\u001b[43m[\u001b[49m\n\u001b[32m     64\u001b[39m \u001b[43m        \u001b[49m\u001b[43m{\u001b[49m\n\u001b[32m     65\u001b[39m \u001b[43m            \u001b[49m\u001b[33;43m\"\u001b[39;49m\u001b[33;43mrole\u001b[39;49m\u001b[33;43m\"\u001b[39;49m\u001b[43m:\u001b[49m\u001b[43m \u001b[49m\u001b[33;43m\"\u001b[39;49m\u001b[33;43msystem\u001b[39;49m\u001b[33;43m\"\u001b[39;49m\u001b[43m,\u001b[49m\n\u001b[32m     66\u001b[39m \u001b[43m            \u001b[49m\u001b[33;43m\"\u001b[39;49m\u001b[33;43mcontent\u001b[39;49m\u001b[33;43m\"\u001b[39;49m\u001b[43m:\u001b[49m\u001b[43m \u001b[49m\u001b[43msystem_prompt\u001b[49m\u001b[43m,\u001b[49m\n\u001b[32m     67\u001b[39m \u001b[43m        \u001b[49m\u001b[43m}\u001b[49m\u001b[43m,\u001b[49m\n\u001b[32m     68\u001b[39m \u001b[43m        \u001b[49m\u001b[43m{\u001b[49m\n\u001b[32m     69\u001b[39m \u001b[43m            \u001b[49m\u001b[33;43m\"\u001b[39;49m\u001b[33;43mrole\u001b[39;49m\u001b[33;43m\"\u001b[39;49m\u001b[43m:\u001b[49m\u001b[43m \u001b[49m\u001b[33;43m\"\u001b[39;49m\u001b[33;43muser\u001b[39;49m\u001b[33;43m\"\u001b[39;49m\u001b[43m,\u001b[49m\n\u001b[32m     70\u001b[39m \u001b[43m            \u001b[49m\u001b[33;43m\"\u001b[39;49m\u001b[33;43mcontent\u001b[39;49m\u001b[33;43m\"\u001b[39;49m\u001b[43m:\u001b[49m\u001b[43m \u001b[49m\u001b[43m[\u001b[49m\n\u001b[32m     71\u001b[39m \u001b[43m                \u001b[49m\u001b[43m{\u001b[49m\n\u001b[32m     72\u001b[39m \u001b[43m                    \u001b[49m\u001b[33;43m\"\u001b[39;49m\u001b[33;43mtype\u001b[39;49m\u001b[33;43m\"\u001b[39;49m\u001b[43m:\u001b[49m\u001b[43m \u001b[49m\u001b[33;43m\"\u001b[39;49m\u001b[33;43mtext\u001b[39;49m\u001b[33;43m\"\u001b[39;49m\u001b[43m,\u001b[49m\n\u001b[32m     73\u001b[39m \u001b[43m                    \u001b[49m\u001b[33;43m\"\u001b[39;49m\u001b[33;43mtext\u001b[39;49m\u001b[33;43m\"\u001b[39;49m\u001b[43m:\u001b[49m\u001b[43m \u001b[49m\u001b[33;43mf\u001b[39;49m\u001b[33;43m\"\u001b[39;49m\u001b[33;43mGive me information about the component of \u001b[39;49m\u001b[38;5;132;43;01m{\u001b[39;49;00m\u001b[43mrow\u001b[49m\u001b[43m[\u001b[49m\u001b[33;43m\"\u001b[39;49m\u001b[33;43mpart_num\u001b[39;49m\u001b[33;43m\"\u001b[39;49m\u001b[43m]\u001b[49m\u001b[38;5;132;43;01m}\u001b[39;49;00m\u001b[33;43m production of \u001b[39;49m\u001b[38;5;132;43;01m{\u001b[39;49;00m\u001b[43mrow\u001b[49m\u001b[43m[\u001b[49m\u001b[33;43m\"\u001b[39;49m\u001b[33;43mmanufacturer\u001b[39;49m\u001b[33;43m\"\u001b[39;49m\u001b[43m]\u001b[49m\u001b[38;5;132;43;01m}\u001b[39;49;00m\u001b[33;43m from the text:\u001b[39;49m\u001b[33;43m\"\u001b[39;49m\u001b[43m,\u001b[49m\n\u001b[32m     74\u001b[39m \u001b[43m                \u001b[49m\u001b[43m}\u001b[49m\u001b[43m,\u001b[49m\n\u001b[32m     75\u001b[39m \u001b[43m                \u001b[49m\u001b[43m{\u001b[49m\n\u001b[32m     76\u001b[39m \u001b[43m                    \u001b[49m\u001b[33;43m\"\u001b[39;49m\u001b[33;43mtype\u001b[39;49m\u001b[33;43m\"\u001b[39;49m\u001b[43m:\u001b[49m\u001b[43m \u001b[49m\u001b[33;43m\"\u001b[39;49m\u001b[33;43mdocument_url\u001b[39;49m\u001b[33;43m\"\u001b[39;49m\u001b[43m,\u001b[49m\n\u001b[32m     77\u001b[39m \u001b[43m                    \u001b[49m\u001b[33;43m\"\u001b[39;49m\u001b[33;43mdocument_url\u001b[39;49m\u001b[33;43m\"\u001b[39;49m\u001b[43m:\u001b[49m\u001b[43m \u001b[49m\u001b[43mclient\u001b[49m\u001b[43m.\u001b[49m\u001b[43mfiles\u001b[49m\u001b[43m.\u001b[49m\u001b[43mget_signed_url\u001b[49m\u001b[43m(\u001b[49m\u001b[43mfile_id\u001b[49m\u001b[43m=\u001b[49m\u001b[43muploaded_pdf\u001b[49m\u001b[43m.\u001b[49m\u001b[43mid\u001b[49m\u001b[43m)\u001b[49m\u001b[43m.\u001b[49m\u001b[43murl\u001b[49m\u001b[43m,\u001b[49m\n\u001b[32m     78\u001b[39m \u001b[43m                \u001b[49m\u001b[43m}\u001b[49m\u001b[43m,\u001b[49m\n\u001b[32m     79\u001b[39m \u001b[43m            \u001b[49m\u001b[43m]\u001b[49m\u001b[43m,\u001b[49m\n\u001b[32m     80\u001b[39m \u001b[43m        \u001b[49m\u001b[43m}\u001b[49m\u001b[43m,\u001b[49m\n\u001b[32m     81\u001b[39m \u001b[43m    \u001b[49m\u001b[43m]\u001b[49m\u001b[43m,\u001b[49m\n\u001b[32m     82\u001b[39m \u001b[43m\u001b[49m\u001b[43m)\u001b[49m\n\u001b[32m     83\u001b[39m result = chat_response.choices[\u001b[32m0\u001b[39m].message.content\n\u001b[32m     84\u001b[39m \u001b[38;5;28;01mwith\u001b[39;00m \u001b[38;5;28mopen\u001b[39m(os.path.join(summary_path, \u001b[33mf\u001b[39m\u001b[33m\"\u001b[39m\u001b[38;5;132;01m{\u001b[39;00mfilename\u001b[38;5;132;01m}\u001b[39;00m\u001b[33m.txt\u001b[39m\u001b[33m\"\u001b[39m), \u001b[33m\"\u001b[39m\u001b[33mw\u001b[39m\u001b[33m\"\u001b[39m, encoding=\u001b[33m\"\u001b[39m\u001b[33mutf-8\u001b[39m\u001b[33m\"\u001b[39m) \u001b[38;5;28;01mas\u001b[39;00m f:\n",
            "\u001b[36mFile \u001b[39m\u001b[32mc:\\Users\\alexysxeightn\\AppData\\Local\\Programs\\Python\\Python313\\Lib\\site-packages\\mistralai\\chat.py:248\u001b[39m, in \u001b[36mChat.complete\u001b[39m\u001b[34m(self, model, messages, temperature, top_p, max_tokens, stream, stop, random_seed, response_format, tools, tool_choice, presence_penalty, frequency_penalty, n, prediction, parallel_tool_calls, safe_prompt, retries, server_url, timeout_ms, http_headers)\u001b[39m\n\u001b[32m    246\u001b[39m \u001b[38;5;28;01mif\u001b[39;00m utils.match_response(http_res, \u001b[33m\"\u001b[39m\u001b[33m5XX\u001b[39m\u001b[33m\"\u001b[39m, \u001b[33m\"\u001b[39m\u001b[33m*\u001b[39m\u001b[33m\"\u001b[39m):\n\u001b[32m    247\u001b[39m     http_res_text = utils.stream_to_text(http_res)\n\u001b[32m--> \u001b[39m\u001b[32m248\u001b[39m     \u001b[38;5;28;01mraise\u001b[39;00m models.SDKError(\n\u001b[32m    249\u001b[39m         \u001b[33m\"\u001b[39m\u001b[33mAPI error occurred\u001b[39m\u001b[33m\"\u001b[39m, http_res.status_code, http_res_text, http_res\n\u001b[32m    250\u001b[39m     )\n\u001b[32m    252\u001b[39m content_type = http_res.headers.get(\u001b[33m\"\u001b[39m\u001b[33mContent-Type\u001b[39m\u001b[33m\"\u001b[39m)\n\u001b[32m    253\u001b[39m http_res_text = utils.stream_to_text(http_res)\n",
            "\u001b[31mSDKError\u001b[39m: API error occurred: Status 500\n{\"object\":\"error\",\"message\":\"Service unavailable.\",\"type\":\"internal_server_error\",\"param\":null,\"code\":\"1000\"}"
          ]
        }
      ],
      "source": [
        "# Функция для проверки PDF-файла на битость или пароль\n",
        "def is_pdf_valid(pdf_path):\n",
        "    try:\n",
        "        reader = PdfReader(pdf_path)\n",
        "        if reader.is_encrypted:\n",
        "            return False  # Защищен паролем\n",
        "        return True  # Файл валидный\n",
        "    except Exception:\n",
        "        return False  # Битый файл\n",
        "\n",
        "\n",
        "system_prompt = \"\"\"\n",
        "    You are a technical specialist with expertise in electronics. Your task is to analyze datasheets for electronic components and provide a concise summary of the product’s key characteristics and specifications. In addition, you need to gather textual information about the component, including its description and typical applications.Instructions:    Identify the correct component in the datasheet using the provided product code.    Summarize key parameters, including:        Voltage ratings        Current ratings        Power consumption        Operating temperature range        Package type        Special features or notes (if applicable)        Moisture Sensetive Level JEDEC J-STD-020E    Provide a short description of the component, including what it is (e.g., transistor, microcontroller, sensor) and its primary function.    Explain typical applications for the component (e.g., power management, signal processing, data storage, etc.).    Be thorough and accurate: Ensure the information corresponds specifically to the product code, as some datasheets cover multiple variants.Your goal is to create a clear and accurate technical summary that includes both key specifications and a description of what the component is used for.\n",
        "\"\"\"\n",
        "\n",
        "client = Mistral(api_key=os.environ[\"MISTRAL_API_KEY\"])\n",
        "\n",
        "pdfs_path     = \"datasheets_miro\"\n",
        "complete_path = \"datasheets_miro_gpt4o_mini\"\n",
        "summary_path  = \"datasheets_miro_llm\"\n",
        "\n",
        "rows_to_drop = []\n",
        "\n",
        "for index, row in df.iterrows():\n",
        "    filename = row[\"id_path\"]\n",
        "    docx_path = os.path.join(pdfs_path, f\"{filename}.docx\")\n",
        "    pdf_path = os.path.join(pdfs_path, f\"{filename}.pdf\")\n",
        "    image_paths = [\n",
        "        os.path.join(pdfs_path, f\"{filename}.png\"),\n",
        "        os.path.join(pdfs_path, f\"{filename}.jpeg\"),\n",
        "    ]\n",
        "\n",
        "    # Если есть .docx файл, конвертировать его в PDF\n",
        "    if os.path.exists(docx_path):\n",
        "        output_pdf_path = os.path.join(pdfs_path, f\"{filename}.pdf\")\n",
        "        convert(docx_path, output_pdf_path)\n",
        "\n",
        "    # Если есть валидный .pdf файл, провести OCR и сделать summary\n",
        "    if os.path.exists(pdf_path):\n",
        "        if is_pdf_valid(pdf_path):\n",
        "            if not os.path.exists(os.path.join(complete_path, f\"{filename}.txt\")):\n",
        "                with open(os.path.join(pdfs_path, f\"{filename}.pdf\"), \"rb\") as f:\n",
        "                    uploaded_pdf = client.files.upload(\n",
        "                        file={\n",
        "                            \"file_name\": os.path.join(pdfs_path, f\"{filename}.pdf\"),\n",
        "                            \"content\": f.read(4 * 131072), # Обрезка pdf-файла (некоторые pdf слишком большие и не влазят в промпт, основная информация все равно скорее всего находится в начале документа)\n",
        "                        },\n",
        "                        purpose=\"ocr\",\n",
        "                    )\n",
        "                chat_response = client.chat.complete(\n",
        "                    model=\"mistral-large-latest\",\n",
        "                    messages=[\n",
        "                        {\n",
        "                            \"role\": \"system\",\n",
        "                            \"content\": system_prompt,\n",
        "                        },\n",
        "                        {\n",
        "                            \"role\": \"user\",\n",
        "                            \"content\": [\n",
        "                                {\n",
        "                                    \"type\": \"text\",\n",
        "                                    \"text\": f\"Give me information about the component of {row[\"part_num\"]} production of {row[\"manufacturer\"]} from the text:\",\n",
        "                                },\n",
        "                                {\n",
        "                                    \"type\": \"document_url\",\n",
        "                                    \"document_url\": client.files.get_signed_url(\n",
        "                                        file_id=uploaded_pdf.id\n",
        "                                    ).url,\n",
        "                                },\n",
        "                            ],\n",
        "                        },\n",
        "                    ],\n",
        "                )\n",
        "                result = chat_response.choices[0].message.content\n",
        "                with open(\n",
        "                    os.path.join(summary_path, f\"{filename}.txt\"), \"w\", encoding=\"utf-8\"\n",
        "                ) as f:\n",
        "                    f.write(result)\n",
        "        else:\n",
        "            rows_to_drop.append(index)\n",
        "\n",
        "    # Если есть .png или .jpeg файл, то провести OCR и сделать summary текста\n",
        "    for image_path in image_paths:\n",
        "        if os.path.exists(image_path) and not os.path.exists(\n",
        "            os.path.join(complete_path, f\"{filename}.txt\")\n",
        "        ):\n",
        "            with open(image_path, \"rb\") as image_file:\n",
        "                base64_image = base64.b64encode(image_file.read()).decode(\"utf-8\")\n",
        "            ocr_response = client.ocr.process(\n",
        "                model=\"mistral-ocr-latest\",\n",
        "                document={\n",
        "                    \"type\": \"image_url\",\n",
        "                    \"image_url\": f\"data:image/jpeg;base64,{base64_image}\",\n",
        "                },\n",
        "            )\n",
        "            chat_response = client.chat.complete(\n",
        "                model=\"mistral-large-latest\",\n",
        "                messages=[\n",
        "                    {\n",
        "                        \"role\": \"system\",\n",
        "                        \"content\": system_prompt,\n",
        "                    },\n",
        "                    {\n",
        "                        \"role\": \"user\",\n",
        "                        \"content\": [\n",
        "                            {\n",
        "                                \"type\": \"text\",\n",
        "                                \"text\": f\"Give me information about the component of {row[\"part_num\"]} production of {row[\"manufacturer\"]} from the text: {' '.join([x.markdown for x in ocr_response.pages])}\",\n",
        "                            }\n",
        "                        ],\n",
        "                    },\n",
        "                ],\n",
        "            )\n",
        "            result = chat_response.choices[0].message.content\n",
        "            with open(\n",
        "                os.path.join(summary_path, f\"{filename}.txt\"), \"w\", encoding=\"utf-8\"\n",
        "            ) as f:\n",
        "                f.write(result)\n",
        "\n",
        "# Удаление строк с недействительными PDF-файлами\n",
        "df_truncated = df.drop(rows_to_drop).reset_index(drop=True)\n",
        "\n",
        "# Вывод обновленного DataFrame\n",
        "print(df_truncated)"
      ]
    },
    {
      "cell_type": "markdown",
      "metadata": {},
      "source": [
        "К сожалению, бесплатного плана Mistral не хватило для полной обработки всех файлов (успел получить только 549 дополнительных summary). Можно было бы развернуть локальную модель на уровне `Llama-3-1b`, но она на моем компьютере очень медленно работает) (нет GPU)"
      ]
    },
    {
      "cell_type": "markdown",
      "metadata": {},
      "source": [
        "Добавим в датафрейм все summary, которые есть"
      ]
    },
    {
      "cell_type": "code",
      "execution_count": null,
      "metadata": {},
      "outputs": [
        {
          "name": "stdout",
          "output_type": "stream",
          "text": [
            "                               part_num                 manufacturer  \\\n",
            "0                     XC7K410T-2FFG900I                       XILINX   \n",
            "1                            NC7WZ04P6X             ON SEMICONDUCTOR   \n",
            "2                          ADUM1401ARWZ               ANALOG DEVICES   \n",
            "3                    GCM155R71C104KA55D           MURATA ELECTRONICS   \n",
            "4                         ADA4898-1YRDZ               ANALOG DEVICES   \n",
            "...                                 ...                          ...   \n",
            "10686                         VT3-801FL                 QUARTZCOM AG   \n",
            "10687         FD129225UB-Q-EAG(2FE)-RUM     YEN SUN TECHNOLOGY CORP.   \n",
            "10688                          BC817-16  YANGZHOU YANGJIE ELECTRONIC   \n",
            "10689  2J2004B-B05H-500RG58-C91NST_MARU                           2J   \n",
            "10690                  MFMVC100FC2R-1M3     FAITHFUL LINK INDUSTRIAL   \n",
            "\n",
            "            TNVED                                         concat_str  \\\n",
            "0      8542399010                           XC7K410T-2FFG900I XILINX   \n",
            "1      8542399010                        NC7WZ04P6X ON SEMICONDUCTOR   \n",
            "2      8542399010                        ADUM1401ARWZ ANALOG DEVICES   \n",
            "3      8532240000              GCM155R71C104KA55D MURATA ELECTRONICS   \n",
            "4      8542339000                       ADA4898-1YRDZ ANALOG DEVICES   \n",
            "...           ...                                                ...   \n",
            "10686  8542393000                             VT3-801FL QUARTZCOM AG   \n",
            "10687  8414592000  FD129225UB-Q-EAG(2FE)-RUM YEN SUN TECHNOLOGY C...   \n",
            "10688  8541210000               BC817-16 YANGZHOU YANGJIE ELECTRONIC   \n",
            "10689  8517711900                2J2004B-B05H-500RG58-C91NST_MARU 2J   \n",
            "10690  8533100000          MFMVC100FC2R-1M3 FAITHFUL LINK INDUSTRIAL   \n",
            "\n",
            "                                                 path_ds  \\\n",
            "0      M:\\DataSheet\\d76e3861-23b6-11ed-96e5-f8bc12505...   \n",
            "1      M:\\DataSheet\\b09bd526-4a32-11ed-96e6-f8bc12505...   \n",
            "2      M:\\DataSheet\\2ff0bfb5-6804-11ee-96f4-f8bc12505...   \n",
            "3      M:\\DataSheet\\8436bcbb-4a18-11ed-96e6-f8bc12505...   \n",
            "4      M:\\DataSheet\\cb8a2892-ddc2-11ed-96f0-f8bc12505...   \n",
            "...                                                  ...   \n",
            "10686  M:\\DataSheet\\c005ef03-1ecc-11ed-96e5-f8bc12505...   \n",
            "10687  M:\\DataSheet\\971e123f-c542-11ec-96e1-f8bc12505...   \n",
            "10688  M:\\DataSheet\\a5bde0c0-c8af-11ed-96ee-f8bc12505...   \n",
            "10689  M:\\DataSheet\\eceb9dfd-e6fb-11ec-96e1-f8bc12505...   \n",
            "10690  M:\\DataSheet\\bb07e456-d1cd-11ec-96e1-f8bc12505...   \n",
            "\n",
            "                                    id_path  \\\n",
            "0      d76e3861-23b6-11ed-96e5-f8bc12505841   \n",
            "1      b09bd526-4a32-11ed-96e6-f8bc12505841   \n",
            "2      2ff0bfb5-6804-11ee-96f4-f8bc12505841   \n",
            "3      8436bcbb-4a18-11ed-96e6-f8bc12505841   \n",
            "4      cb8a2892-ddc2-11ed-96f0-f8bc12505841   \n",
            "...                                     ...   \n",
            "10686  c005ef03-1ecc-11ed-96e5-f8bc12505841   \n",
            "10687  971e123f-c542-11ec-96e1-f8bc12505841   \n",
            "10688  a5bde0c0-c8af-11ed-96ee-f8bc12505841   \n",
            "10689  eceb9dfd-e6fb-11ec-96e1-f8bc12505841   \n",
            "10690  bb07e456-d1cd-11ec-96e1-f8bc12505841   \n",
            "\n",
            "                                             description  \n",
            "0      ### Component Summary: XC7K410T-2FFG900I\\n\\n##...  \n",
            "1      ### Component Summary: NC7WZ04P6X\\n\\n#### Key ...  \n",
            "2      ### Component Summary: ADuM1401ARWZ\\n\\n**Key C...  \n",
            "3      ### Component Summary: GCM155R71C104KA55D\\n\\n*...  \n",
            "4      ### Component Summary: ADA4898-1YRDZ\\n\\n**Key ...  \n",
            "...                                                  ...  \n",
            "10686  ### Component Summary: VT3-801FL\\n\\n**Descript...  \n",
            "10687  ### Component Summary: FD129225UB-Q-EAG(2FE)-R...  \n",
            "10688  ### Component Summary: BC817-16\\n\\n**Manufactu...  \n",
            "10689  ### Component Summary: 2J2004B-B05H-500RG58-C9...  \n",
            "10690  ### Component Summary for MFMVC100FC2R-1M3\\n\\n...  \n",
            "\n",
            "[10691 rows x 7 columns]\n"
          ]
        }
      ],
      "source": [
        "df_truncated = df\n",
        "\n",
        "for index, row in df_truncated.iterrows():\n",
        "    filename = row[\"id_path\"]\n",
        "    \n",
        "    # Проверка наличия файла в complete_path (gpt4o_mini)\n",
        "    complete_file_path = os.path.join(complete_path, f\"{filename}.txt\")\n",
        "    if os.path.exists(complete_file_path):\n",
        "        with open(complete_file_path, \"r\", encoding=\"utf-8\") as file:\n",
        "            df_truncated.at[index, \"description\"] = ''.join(file.readlines()[2:])\n",
        "        continue\n",
        "\n",
        "    # Проверка наличия файла в summary_path (mistral)\n",
        "    summary_file_path = os.path.join(summary_path, f\"{filename}.txt\")\n",
        "    if os.path.exists(summary_file_path):\n",
        "        with open(summary_file_path, \"r\", encoding=\"utf-8\") as file:\n",
        "            df_truncated.at[index, \"description\"] = file.read()\n",
        "        continue\n",
        "\n",
        "    # Если файл отсутствует в обеих папках, добавляем индекс в список для удаления\n",
        "    rows_to_drop.append(index)\n",
        "\n",
        "df_truncated = df_truncated.drop(rows_to_drop).reset_index(drop=True)\n",
        "df_truncated"
      ]
    },
    {
      "cell_type": "markdown",
      "metadata": {},
      "source": [
        "Добавим эмбеддинги с помощью `all-MiniLM-L6-v2` для каждого текста"
      ]
    },
    {
      "cell_type": "code",
      "execution_count": 48,
      "metadata": {},
      "outputs": [
        {
          "data": {
            "text/html": [
              "<div>\n",
              "<style scoped>\n",
              "    .dataframe tbody tr th:only-of-type {\n",
              "        vertical-align: middle;\n",
              "    }\n",
              "\n",
              "    .dataframe tbody tr th {\n",
              "        vertical-align: top;\n",
              "    }\n",
              "\n",
              "    .dataframe thead th {\n",
              "        text-align: right;\n",
              "    }\n",
              "</style>\n",
              "<table border=\"1\" class=\"dataframe\">\n",
              "  <thead>\n",
              "    <tr style=\"text-align: right;\">\n",
              "      <th></th>\n",
              "      <th>part_num</th>\n",
              "      <th>manufacturer</th>\n",
              "      <th>TNVED</th>\n",
              "      <th>concat_str</th>\n",
              "      <th>path_ds</th>\n",
              "      <th>id_path</th>\n",
              "      <th>description</th>\n",
              "      <th>embeddings</th>\n",
              "    </tr>\n",
              "  </thead>\n",
              "  <tbody>\n",
              "    <tr>\n",
              "      <th>0</th>\n",
              "      <td>XC7K410T-2FFG900I</td>\n",
              "      <td>XILINX</td>\n",
              "      <td>8542399010</td>\n",
              "      <td>XC7K410T-2FFG900I XILINX</td>\n",
              "      <td>M:\\DataSheet\\d76e3861-23b6-11ed-96e5-f8bc12505...</td>\n",
              "      <td>d76e3861-23b6-11ed-96e5-f8bc12505841</td>\n",
              "      <td>### Component Summary: XC7K410T-2FFG900I\\n\\n##...</td>\n",
              "      <td>[-0.013514991, 0.031755332, -0.05987508, 0.042...</td>\n",
              "    </tr>\n",
              "    <tr>\n",
              "      <th>1</th>\n",
              "      <td>NC7WZ04P6X</td>\n",
              "      <td>ON SEMICONDUCTOR</td>\n",
              "      <td>8542399010</td>\n",
              "      <td>NC7WZ04P6X ON SEMICONDUCTOR</td>\n",
              "      <td>M:\\DataSheet\\b09bd526-4a32-11ed-96e6-f8bc12505...</td>\n",
              "      <td>b09bd526-4a32-11ed-96e6-f8bc12505841</td>\n",
              "      <td>### Component Summary: NC7WZ04P6X\\n\\n#### Key ...</td>\n",
              "      <td>[-0.070085905, 0.066799246, -0.051538046, 0.07...</td>\n",
              "    </tr>\n",
              "    <tr>\n",
              "      <th>2</th>\n",
              "      <td>ADUM1401ARWZ</td>\n",
              "      <td>ANALOG DEVICES</td>\n",
              "      <td>8542399010</td>\n",
              "      <td>ADUM1401ARWZ ANALOG DEVICES</td>\n",
              "      <td>M:\\DataSheet\\2ff0bfb5-6804-11ee-96f4-f8bc12505...</td>\n",
              "      <td>2ff0bfb5-6804-11ee-96f4-f8bc12505841</td>\n",
              "      <td>### Component Summary: ADuM1401ARWZ\\n\\n**Key C...</td>\n",
              "      <td>[-0.04808385, -0.00471383, -0.10744147, 0.0190...</td>\n",
              "    </tr>\n",
              "    <tr>\n",
              "      <th>3</th>\n",
              "      <td>GCM155R71C104KA55D</td>\n",
              "      <td>MURATA ELECTRONICS</td>\n",
              "      <td>8532240000</td>\n",
              "      <td>GCM155R71C104KA55D MURATA ELECTRONICS</td>\n",
              "      <td>M:\\DataSheet\\8436bcbb-4a18-11ed-96e6-f8bc12505...</td>\n",
              "      <td>8436bcbb-4a18-11ed-96e6-f8bc12505841</td>\n",
              "      <td>### Component Summary: GCM155R71C104KA55D\\n\\n*...</td>\n",
              "      <td>[-0.07480909, 0.0071022143, 0.029887581, -0.02...</td>\n",
              "    </tr>\n",
              "    <tr>\n",
              "      <th>4</th>\n",
              "      <td>ADA4898-1YRDZ</td>\n",
              "      <td>ANALOG DEVICES</td>\n",
              "      <td>8542339000</td>\n",
              "      <td>ADA4898-1YRDZ ANALOG DEVICES</td>\n",
              "      <td>M:\\DataSheet\\cb8a2892-ddc2-11ed-96f0-f8bc12505...</td>\n",
              "      <td>cb8a2892-ddc2-11ed-96f0-f8bc12505841</td>\n",
              "      <td>### Component Summary: ADA4898-1YRDZ\\n\\n**Key ...</td>\n",
              "      <td>[-0.04739395, -0.007062537, -0.030483497, 0.04...</td>\n",
              "    </tr>\n",
              "    <tr>\n",
              "      <th>...</th>\n",
              "      <td>...</td>\n",
              "      <td>...</td>\n",
              "      <td>...</td>\n",
              "      <td>...</td>\n",
              "      <td>...</td>\n",
              "      <td>...</td>\n",
              "      <td>...</td>\n",
              "      <td>...</td>\n",
              "    </tr>\n",
              "    <tr>\n",
              "      <th>10686</th>\n",
              "      <td>VT3-801FL</td>\n",
              "      <td>QUARTZCOM AG</td>\n",
              "      <td>8542393000</td>\n",
              "      <td>VT3-801FL QUARTZCOM AG</td>\n",
              "      <td>M:\\DataSheet\\c005ef03-1ecc-11ed-96e5-f8bc12505...</td>\n",
              "      <td>c005ef03-1ecc-11ed-96e5-f8bc12505841</td>\n",
              "      <td>### Component Summary: VT3-801FL\\n\\n**Descript...</td>\n",
              "      <td>[-0.048993777, 0.054060373, -0.026932687, -0.0...</td>\n",
              "    </tr>\n",
              "    <tr>\n",
              "      <th>10687</th>\n",
              "      <td>FD129225UB-Q-EAG(2FE)-RUM</td>\n",
              "      <td>YEN SUN TECHNOLOGY CORP.</td>\n",
              "      <td>8414592000</td>\n",
              "      <td>FD129225UB-Q-EAG(2FE)-RUM YEN SUN TECHNOLOGY C...</td>\n",
              "      <td>M:\\DataSheet\\971e123f-c542-11ec-96e1-f8bc12505...</td>\n",
              "      <td>971e123f-c542-11ec-96e1-f8bc12505841</td>\n",
              "      <td>### Component Summary: FD129225UB-Q-EAG(2FE)-R...</td>\n",
              "      <td>[-0.06340383, 0.016869703, -0.06822618, 0.0392...</td>\n",
              "    </tr>\n",
              "    <tr>\n",
              "      <th>10688</th>\n",
              "      <td>BC817-16</td>\n",
              "      <td>YANGZHOU YANGJIE ELECTRONIC</td>\n",
              "      <td>8541210000</td>\n",
              "      <td>BC817-16 YANGZHOU YANGJIE ELECTRONIC</td>\n",
              "      <td>M:\\DataSheet\\a5bde0c0-c8af-11ed-96ee-f8bc12505...</td>\n",
              "      <td>a5bde0c0-c8af-11ed-96ee-f8bc12505841</td>\n",
              "      <td>### Component Summary: BC817-16\\n\\n**Manufactu...</td>\n",
              "      <td>[-0.0899787, 0.10961427, -0.031834196, 0.01712...</td>\n",
              "    </tr>\n",
              "    <tr>\n",
              "      <th>10689</th>\n",
              "      <td>2J2004B-B05H-500RG58-C91NST_MARU</td>\n",
              "      <td>2J</td>\n",
              "      <td>8517711900</td>\n",
              "      <td>2J2004B-B05H-500RG58-C91NST_MARU 2J</td>\n",
              "      <td>M:\\DataSheet\\eceb9dfd-e6fb-11ec-96e1-f8bc12505...</td>\n",
              "      <td>eceb9dfd-e6fb-11ec-96e1-f8bc12505841</td>\n",
              "      <td>### Component Summary: 2J2004B-B05H-500RG58-C9...</td>\n",
              "      <td>[-0.0824631, 0.06764474, -0.06550382, 0.038086...</td>\n",
              "    </tr>\n",
              "    <tr>\n",
              "      <th>10690</th>\n",
              "      <td>MFMVC100FC2R-1M3</td>\n",
              "      <td>FAITHFUL LINK INDUSTRIAL</td>\n",
              "      <td>8533100000</td>\n",
              "      <td>MFMVC100FC2R-1M3 FAITHFUL LINK INDUSTRIAL</td>\n",
              "      <td>M:\\DataSheet\\bb07e456-d1cd-11ec-96e1-f8bc12505...</td>\n",
              "      <td>bb07e456-d1cd-11ec-96e1-f8bc12505841</td>\n",
              "      <td>### Component Summary for MFMVC100FC2R-1M3\\n\\n...</td>\n",
              "      <td>[-0.013658517, -0.025234176, -0.02613567, -0.0...</td>\n",
              "    </tr>\n",
              "  </tbody>\n",
              "</table>\n",
              "<p>10691 rows × 8 columns</p>\n",
              "</div>"
            ],
            "text/plain": [
              "                               part_num                 manufacturer  \\\n",
              "0                     XC7K410T-2FFG900I                       XILINX   \n",
              "1                            NC7WZ04P6X             ON SEMICONDUCTOR   \n",
              "2                          ADUM1401ARWZ               ANALOG DEVICES   \n",
              "3                    GCM155R71C104KA55D           MURATA ELECTRONICS   \n",
              "4                         ADA4898-1YRDZ               ANALOG DEVICES   \n",
              "...                                 ...                          ...   \n",
              "10686                         VT3-801FL                 QUARTZCOM AG   \n",
              "10687         FD129225UB-Q-EAG(2FE)-RUM     YEN SUN TECHNOLOGY CORP.   \n",
              "10688                          BC817-16  YANGZHOU YANGJIE ELECTRONIC   \n",
              "10689  2J2004B-B05H-500RG58-C91NST_MARU                           2J   \n",
              "10690                  MFMVC100FC2R-1M3     FAITHFUL LINK INDUSTRIAL   \n",
              "\n",
              "            TNVED                                         concat_str  \\\n",
              "0      8542399010                           XC7K410T-2FFG900I XILINX   \n",
              "1      8542399010                        NC7WZ04P6X ON SEMICONDUCTOR   \n",
              "2      8542399010                        ADUM1401ARWZ ANALOG DEVICES   \n",
              "3      8532240000              GCM155R71C104KA55D MURATA ELECTRONICS   \n",
              "4      8542339000                       ADA4898-1YRDZ ANALOG DEVICES   \n",
              "...           ...                                                ...   \n",
              "10686  8542393000                             VT3-801FL QUARTZCOM AG   \n",
              "10687  8414592000  FD129225UB-Q-EAG(2FE)-RUM YEN SUN TECHNOLOGY C...   \n",
              "10688  8541210000               BC817-16 YANGZHOU YANGJIE ELECTRONIC   \n",
              "10689  8517711900                2J2004B-B05H-500RG58-C91NST_MARU 2J   \n",
              "10690  8533100000          MFMVC100FC2R-1M3 FAITHFUL LINK INDUSTRIAL   \n",
              "\n",
              "                                                 path_ds  \\\n",
              "0      M:\\DataSheet\\d76e3861-23b6-11ed-96e5-f8bc12505...   \n",
              "1      M:\\DataSheet\\b09bd526-4a32-11ed-96e6-f8bc12505...   \n",
              "2      M:\\DataSheet\\2ff0bfb5-6804-11ee-96f4-f8bc12505...   \n",
              "3      M:\\DataSheet\\8436bcbb-4a18-11ed-96e6-f8bc12505...   \n",
              "4      M:\\DataSheet\\cb8a2892-ddc2-11ed-96f0-f8bc12505...   \n",
              "...                                                  ...   \n",
              "10686  M:\\DataSheet\\c005ef03-1ecc-11ed-96e5-f8bc12505...   \n",
              "10687  M:\\DataSheet\\971e123f-c542-11ec-96e1-f8bc12505...   \n",
              "10688  M:\\DataSheet\\a5bde0c0-c8af-11ed-96ee-f8bc12505...   \n",
              "10689  M:\\DataSheet\\eceb9dfd-e6fb-11ec-96e1-f8bc12505...   \n",
              "10690  M:\\DataSheet\\bb07e456-d1cd-11ec-96e1-f8bc12505...   \n",
              "\n",
              "                                    id_path  \\\n",
              "0      d76e3861-23b6-11ed-96e5-f8bc12505841   \n",
              "1      b09bd526-4a32-11ed-96e6-f8bc12505841   \n",
              "2      2ff0bfb5-6804-11ee-96f4-f8bc12505841   \n",
              "3      8436bcbb-4a18-11ed-96e6-f8bc12505841   \n",
              "4      cb8a2892-ddc2-11ed-96f0-f8bc12505841   \n",
              "...                                     ...   \n",
              "10686  c005ef03-1ecc-11ed-96e5-f8bc12505841   \n",
              "10687  971e123f-c542-11ec-96e1-f8bc12505841   \n",
              "10688  a5bde0c0-c8af-11ed-96ee-f8bc12505841   \n",
              "10689  eceb9dfd-e6fb-11ec-96e1-f8bc12505841   \n",
              "10690  bb07e456-d1cd-11ec-96e1-f8bc12505841   \n",
              "\n",
              "                                             description  \\\n",
              "0      ### Component Summary: XC7K410T-2FFG900I\\n\\n##...   \n",
              "1      ### Component Summary: NC7WZ04P6X\\n\\n#### Key ...   \n",
              "2      ### Component Summary: ADuM1401ARWZ\\n\\n**Key C...   \n",
              "3      ### Component Summary: GCM155R71C104KA55D\\n\\n*...   \n",
              "4      ### Component Summary: ADA4898-1YRDZ\\n\\n**Key ...   \n",
              "...                                                  ...   \n",
              "10686  ### Component Summary: VT3-801FL\\n\\n**Descript...   \n",
              "10687  ### Component Summary: FD129225UB-Q-EAG(2FE)-R...   \n",
              "10688  ### Component Summary: BC817-16\\n\\n**Manufactu...   \n",
              "10689  ### Component Summary: 2J2004B-B05H-500RG58-C9...   \n",
              "10690  ### Component Summary for MFMVC100FC2R-1M3\\n\\n...   \n",
              "\n",
              "                                              embeddings  \n",
              "0      [-0.013514991, 0.031755332, -0.05987508, 0.042...  \n",
              "1      [-0.070085905, 0.066799246, -0.051538046, 0.07...  \n",
              "2      [-0.04808385, -0.00471383, -0.10744147, 0.0190...  \n",
              "3      [-0.07480909, 0.0071022143, 0.029887581, -0.02...  \n",
              "4      [-0.04739395, -0.007062537, -0.030483497, 0.04...  \n",
              "...                                                  ...  \n",
              "10686  [-0.048993777, 0.054060373, -0.026932687, -0.0...  \n",
              "10687  [-0.06340383, 0.016869703, -0.06822618, 0.0392...  \n",
              "10688  [-0.0899787, 0.10961427, -0.031834196, 0.01712...  \n",
              "10689  [-0.0824631, 0.06764474, -0.06550382, 0.038086...  \n",
              "10690  [-0.013658517, -0.025234176, -0.02613567, -0.0...  \n",
              "\n",
              "[10691 rows x 8 columns]"
            ]
          },
          "execution_count": 48,
          "metadata": {},
          "output_type": "execute_result"
        }
      ],
      "source": [
        "embedding_model = SentenceTransformer(\"all-MiniLM-L6-v2\")\n",
        "df_truncated['embeddings'] = df_truncated['description'].apply(lambda x: embedding_model.encode(x))\n",
        "df_truncated"
      ]
    },
    {
      "cell_type": "markdown",
      "metadata": {},
      "source": [
        "Обучим на эмбедингах xgboost"
      ]
    },
    {
      "cell_type": "code",
      "execution_count": null,
      "metadata": {},
      "outputs": [
        {
          "name": "stdout",
          "output_type": "stream",
          "text": [
            "accuracy 0.7840112201963534\n",
            "f1-macro 0.5562071393394606\n",
            "f1-micro 0.7840112201963534\n",
            "f1-weighted 0.7681026175576446\n"
          ]
        }
      ],
      "source": [
        "X = pd.DataFrame(df_truncated[\"embeddings\"].tolist())\n",
        "y = df_truncated[\"TNVED\"]\n",
        "\n",
        "X_train, X_test, y_train, y_test = train_test_split(\n",
        "    X, y, test_size=0.2, random_state=RANDOM_STATE, stratify=y\n",
        ")\n",
        "\n",
        "label_encoder = LabelEncoder()\n",
        "y_train_encoded = label_encoder.fit_transform(y_train)\n",
        "y_test_encoded = label_encoder.transform(y_test)\n",
        "\n",
        "xgb_model = XGBClassifier(\n",
        "    random_state=RANDOM_STATE,\n",
        "    objective='multi:softmax',\n",
        "    num_class=len(set(y_train_encoded))\n",
        ")\n",
        "xgb_model.fit(X_train, y_train_encoded)\n",
        "xgb_model.save_model(\"xgb_model.bin\")\n",
        "\n",
        "y_pred_encoded = xgb_model.predict(X_test)\n",
        "y_pred = label_encoder.inverse_transform(y_pred_encoded)\n",
        "\n",
        "print('accuracy', accuracy_score(y_test, y_pred))\n",
        "print('f1-macro', f1_score(y_test, y_pred, average='macro'))\n",
        "print('f1-micro', f1_score(y_test, y_pred, average='micro'))\n",
        "print('f1-weighted', f1_score(y_test, y_pred, average='weighted'))"
      ]
    },
    {
      "cell_type": "markdown",
      "metadata": {},
      "source": [
        "Качество получилось 77%"
      ]
    },
    {
      "cell_type": "markdown",
      "metadata": {},
      "source": [
        "Можно посмотреть на примеры, где модель ошибается и посмотреть насколько она уверенна в ответе"
      ]
    },
    {
      "cell_type": "code",
      "execution_count": 15,
      "metadata": {},
      "outputs": [
        {
          "data": {
            "text/html": [
              "<div>\n",
              "<style scoped>\n",
              "    .dataframe tbody tr th:only-of-type {\n",
              "        vertical-align: middle;\n",
              "    }\n",
              "\n",
              "    .dataframe tbody tr th {\n",
              "        vertical-align: top;\n",
              "    }\n",
              "\n",
              "    .dataframe thead th {\n",
              "        text-align: right;\n",
              "    }\n",
              "</style>\n",
              "<table border=\"1\" class=\"dataframe\">\n",
              "  <thead>\n",
              "    <tr style=\"text-align: right;\">\n",
              "      <th></th>\n",
              "      <th>text</th>\n",
              "      <th>true_class</th>\n",
              "      <th>predicted_class</th>\n",
              "      <th>confidence</th>\n",
              "    </tr>\n",
              "  </thead>\n",
              "  <tbody>\n",
              "    <tr>\n",
              "      <th>3106</th>\n",
              "      <td>Based on the provided product code FB381A01-WD...</td>\n",
              "      <td>8536693000</td>\n",
              "      <td>9002190000</td>\n",
              "      <td>0.077070</td>\n",
              "    </tr>\n",
              "    <tr>\n",
              "      <th>9432</th>\n",
              "      <td>### Component Summary: VS-40CPQ100-N3\\n\\n**Key...</td>\n",
              "      <td>8541100009</td>\n",
              "      <td>8541300009</td>\n",
              "      <td>0.081250</td>\n",
              "    </tr>\n",
              "    <tr>\n",
              "      <th>8794</th>\n",
              "      <td>### Component Summary for SM1W741\\n\\n**Compone...</td>\n",
              "      <td>7616999008</td>\n",
              "      <td>9001900009</td>\n",
              "      <td>0.092008</td>\n",
              "    </tr>\n",
              "    <tr>\n",
              "      <th>2052</th>\n",
              "      <td>### Technical Summary for STPS2L40U\\n\\n#### Ke...</td>\n",
              "      <td>8541100009</td>\n",
              "      <td>8541420000</td>\n",
              "      <td>0.096632</td>\n",
              "    </tr>\n",
              "    <tr>\n",
              "      <th>9095</th>\n",
              "      <td>### Component Summary: VC MIPI IMX335\\n\\n#### ...</td>\n",
              "      <td>8529906508</td>\n",
              "      <td>8517620002</td>\n",
              "      <td>0.097533</td>\n",
              "    </tr>\n",
              "    <tr>\n",
              "      <th>...</th>\n",
              "      <td>...</td>\n",
              "      <td>...</td>\n",
              "      <td>...</td>\n",
              "      <td>...</td>\n",
              "    </tr>\n",
              "    <tr>\n",
              "      <th>1209</th>\n",
              "      <td>### Component Summary: LG M67K-G1J2-24-Z\\n\\n**...</td>\n",
              "      <td>8541410004</td>\n",
              "      <td>8541100009</td>\n",
              "      <td>0.999900</td>\n",
              "    </tr>\n",
              "    <tr>\n",
              "      <th>5785</th>\n",
              "      <td>### Component Summary: ADCMP573BCPZ-RL7\\n\\n**K...</td>\n",
              "      <td>8542339000</td>\n",
              "      <td>8542399010</td>\n",
              "      <td>0.999924</td>\n",
              "    </tr>\n",
              "    <tr>\n",
              "      <th>6398</th>\n",
              "      <td>To provide a detailed summary of the component...</td>\n",
              "      <td>8536699008</td>\n",
              "      <td>8536693000</td>\n",
              "      <td>0.999932</td>\n",
              "    </tr>\n",
              "    <tr>\n",
              "      <th>205</th>\n",
              "      <td>### Component Summary: ADC121S101CIMF/NOPB\\n\\n...</td>\n",
              "      <td>8542399090</td>\n",
              "      <td>8542399010</td>\n",
              "      <td>0.999954</td>\n",
              "    </tr>\n",
              "    <tr>\n",
              "      <th>1425</th>\n",
              "      <td>### Component Summary: P6SMB6.8CA\\n\\n**Manufac...</td>\n",
              "      <td>8541100001</td>\n",
              "      <td>8541100009</td>\n",
              "      <td>0.999976</td>\n",
              "    </tr>\n",
              "  </tbody>\n",
              "</table>\n",
              "<p>462 rows × 4 columns</p>\n",
              "</div>"
            ],
            "text/plain": [
              "                                                   text  true_class  \\\n",
              "3106  Based on the provided product code FB381A01-WD...  8536693000   \n",
              "9432  ### Component Summary: VS-40CPQ100-N3\\n\\n**Key...  8541100009   \n",
              "8794  ### Component Summary for SM1W741\\n\\n**Compone...  7616999008   \n",
              "2052  ### Technical Summary for STPS2L40U\\n\\n#### Ke...  8541100009   \n",
              "9095  ### Component Summary: VC MIPI IMX335\\n\\n#### ...  8529906508   \n",
              "...                                                 ...         ...   \n",
              "1209  ### Component Summary: LG M67K-G1J2-24-Z\\n\\n**...  8541410004   \n",
              "5785  ### Component Summary: ADCMP573BCPZ-RL7\\n\\n**K...  8542339000   \n",
              "6398  To provide a detailed summary of the component...  8536699008   \n",
              "205   ### Component Summary: ADC121S101CIMF/NOPB\\n\\n...  8542399090   \n",
              "1425  ### Component Summary: P6SMB6.8CA\\n\\n**Manufac...  8541100001   \n",
              "\n",
              "     predicted_class  confidence  \n",
              "3106      9002190000    0.077070  \n",
              "9432      8541300009    0.081250  \n",
              "8794      9001900009    0.092008  \n",
              "2052      8541420000    0.096632  \n",
              "9095      8517620002    0.097533  \n",
              "...              ...         ...  \n",
              "1209      8541100009    0.999900  \n",
              "5785      8542399010    0.999924  \n",
              "6398      8536693000    0.999932  \n",
              "205       8542399010    0.999954  \n",
              "1425      8541100009    0.999976  \n",
              "\n",
              "[462 rows x 4 columns]"
            ]
          },
          "execution_count": 15,
          "metadata": {},
          "output_type": "execute_result"
        }
      ],
      "source": [
        "y_pred_proba = xgb_model.predict_proba(X_test)\n",
        "y_pred_encoded = xgb_model.predict(X_test)\n",
        "y_pred = label_encoder.inverse_transform(y_pred_encoded)\n",
        "\n",
        "confidence = y_pred_proba.max(axis=1)\n",
        "errors = (y_pred != y_test).values\n",
        "\n",
        "error_df = pd.DataFrame({\n",
        "    \"text\": df_truncated.loc[X_test.index, \"description\"],\n",
        "    \"true_class\": y_test,\n",
        "    \"predicted_class\": y_pred,\n",
        "    \"confidence\": confidence\n",
        "})\n",
        "\n",
        "error_df = error_df[errors].sort_values(by=\"confidence\")\n",
        "error_df"
      ]
    },
    {
      "cell_type": "markdown",
      "metadata": {},
      "source": [
        "Видно, что есть примеры, где модель ошибается сильно. Возможно, в тексте нехватает валидной информации для определения кода\n",
        "\n",
        "Также есть примеры, где модель ошибается несильно. Скорее всего это сложные примеры, где код зависит от какой-то маленькой детали в описании "
      ]
    },
    {
      "cell_type": "markdown",
      "metadata": {},
      "source": [
        "Сохраним модели и датафрейм:"
      ]
    },
    {
      "cell_type": "code",
      "execution_count": null,
      "metadata": {},
      "outputs": [],
      "source": [
        "with open(\"label_encoder.pkl\", \"wb\") as f:\n",
        "    pickle.dump(label_encoder, f)\n",
        "xgb_model.save_model(\"xgb_model.json\")\n",
        "df_truncated.to_csv(\"df_truncated.csv\", index=False)"
      ]
    },
    {
      "cell_type": "markdown",
      "metadata": {},
      "source": [
        "## Что можно улучшить (не успел сделать :))"
      ]
    },
    {
      "cell_type": "markdown",
      "metadata": {},
      "source": [
        "- Можно использовать мультимодальные модели, чтобы учитывать изображения (а не только текст из них)\n",
        "\n",
        "- Можно обогатить датасет путем парсинга внешних источников\n",
        "\n",
        "- Можно добыть/забрутфорсить пароли для засекреченных pdf\n",
        "\n",
        "- Заменить xgboost на automl"
      ]
    }
  ],
  "metadata": {
    "colab": {
      "provenance": []
    },
    "kernelspec": {
      "display_name": "Python 3",
      "name": "python3"
    },
    "language_info": {
      "codemirror_mode": {
        "name": "ipython",
        "version": 3
      },
      "file_extension": ".py",
      "mimetype": "text/x-python",
      "name": "python",
      "nbconvert_exporter": "python",
      "pygments_lexer": "ipython3",
      "version": "3.13.0"
    }
  },
  "nbformat": 4,
  "nbformat_minor": 0
}
